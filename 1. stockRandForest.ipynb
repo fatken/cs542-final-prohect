{
 "cells": [
  {
   "cell_type": "code",
   "execution_count": 1,
   "metadata": {},
   "outputs": [],
   "source": [
    "import pandas as pd\n",
    "import re\n",
    "import nltk\n",
    "import numpy as np\n",
    "#nltk.download()\n",
    "from nltk.corpus import stopwords\n",
    "from sklearn.feature_extraction.text import CountVectorizer\n",
    "from sklearn.linear_model import LogisticRegression"
   ]
  },
  {
   "cell_type": "code",
   "execution_count": 2,
   "metadata": {},
   "outputs": [],
   "source": [
    "newsData = pd.read_csv(\"Combined_News_DJIA.csv\")\n",
    "stockData = pd.read_csv(\"DJIA_table.csv\")\n",
    "stockData = stockData.iloc[::-1]"
   ]
  },
  {
   "cell_type": "code",
   "execution_count": 3,
   "metadata": {
    "scrolled": false
   },
   "outputs": [
    {
     "data": {
      "text/html": [
       "<div>\n",
       "<style scoped>\n",
       "    .dataframe tbody tr th:only-of-type {\n",
       "        vertical-align: middle;\n",
       "    }\n",
       "\n",
       "    .dataframe tbody tr th {\n",
       "        vertical-align: top;\n",
       "    }\n",
       "\n",
       "    .dataframe thead th {\n",
       "        text-align: right;\n",
       "    }\n",
       "</style>\n",
       "<table border=\"1\" class=\"dataframe\">\n",
       "  <thead>\n",
       "    <tr style=\"text-align: right;\">\n",
       "      <th></th>\n",
       "      <th>Date</th>\n",
       "      <th>Open</th>\n",
       "      <th>High</th>\n",
       "      <th>Low</th>\n",
       "      <th>Close</th>\n",
       "      <th>Volume</th>\n",
       "      <th>Adj Close</th>\n",
       "    </tr>\n",
       "  </thead>\n",
       "  <tbody>\n",
       "    <tr>\n",
       "      <th>377</th>\n",
       "      <td>2015-01-02</td>\n",
       "      <td>17823.070312</td>\n",
       "      <td>17951.779297</td>\n",
       "      <td>17731.300781</td>\n",
       "      <td>17832.990234</td>\n",
       "      <td>76270000</td>\n",
       "      <td>17832.990234</td>\n",
       "    </tr>\n",
       "    <tr>\n",
       "      <th>376</th>\n",
       "      <td>2015-01-05</td>\n",
       "      <td>17821.300781</td>\n",
       "      <td>17821.300781</td>\n",
       "      <td>17475.929688</td>\n",
       "      <td>17501.650391</td>\n",
       "      <td>116160000</td>\n",
       "      <td>17501.650391</td>\n",
       "    </tr>\n",
       "  </tbody>\n",
       "</table>\n",
       "</div>"
      ],
      "text/plain": [
       "           Date          Open          High           Low         Close  \\\n",
       "377  2015-01-02  17823.070312  17951.779297  17731.300781  17832.990234   \n",
       "376  2015-01-05  17821.300781  17821.300781  17475.929688  17501.650391   \n",
       "\n",
       "        Volume     Adj Close  \n",
       "377   76270000  17832.990234  \n",
       "376  116160000  17501.650391  "
      ]
     },
     "execution_count": 3,
     "metadata": {},
     "output_type": "execute_result"
    }
   ],
   "source": [
    "newsTrain = newsData[newsData['Date']< '2015-01-01']\n",
    "newsTest = newsData[newsData['Date']>'2014-12-31']\n",
    "stockTest = stockData[stockData['Date']>'2014-12-31']\n",
    "stockTest.head(2)"
   ]
  },
  {
   "cell_type": "code",
   "execution_count": 4,
   "metadata": {},
   "outputs": [],
   "source": [
    "def news_to_words( news ):\n",
    "    # 1. Remove non-letters        \n",
    "    letters_only = re.sub(\"[^a-zA-Z]\", \" \", news) \n",
    "    #\n",
    "    # 2. Convert to lower case, split into individual words\n",
    "    words = letters_only.lower().split()                             \n",
    "    #\n",
    "    # 3. In Python, searching a set is much faster than searching\n",
    "    #   a list, so convert the stop words to a set\n",
    "    stops = set(stopwords.words(\"english\"))                  \n",
    "    # \n",
    "    # 4. Remove stop words\n",
    "    meaningful_words = [w for w in words if not w in stops]   \n",
    "    #\n",
    "    # 5. Join the words back into one string separated by space, \n",
    "    # and return the result.\n",
    "    return( \" \".join( meaningful_words ))"
   ]
  },
  {
   "cell_type": "code",
   "execution_count": 5,
   "metadata": {},
   "outputs": [],
   "source": [
    "trainheadlines = []\n",
    "for row in range(0,len(newsTrain.index)):\n",
    "#for row in range(0,2):\n",
    "    #pre-process words\n",
    "    combinedNews = \" \".join(str(x).replace(\"b\\\"\",\"\").replace(\"b\\'\",\"\") for x in newsTrain.iloc[row,2:27])\n",
    "    processedNews = news_to_words(combinedNews)\n",
    "    trainheadlines.append(processedNews)\n",
    "    #trainheadlines.append(combinedNews)\n",
    "#print(trainheadlines)\n",
    "#print(len(newsTrain.index))"
   ]
  },
  {
   "cell_type": "code",
   "execution_count": 6,
   "metadata": {},
   "outputs": [
    {
     "name": "stdout",
     "output_type": "stream",
     "text": [
      "(1611, 1000)\n"
     ]
    }
   ],
   "source": [
    "#regardless the characters\n",
    "#maxium feature words we are considering\n",
    "vectorizer = CountVectorizer(analyzer = \"word\",   \\\n",
    "                             ngram_range=(2,3),\\\n",
    "                             tokenizer = None,    \\\n",
    "                             preprocessor = None, \\\n",
    "                             stop_words = None,   \\\n",
    "                             max_features = 1000)\n",
    "newsTrain_feature = vectorizer.fit_transform(trainheadlines)\n",
    "newsTrain_feature = newsTrain_feature.toarray()\n",
    "print (newsTrain_feature.shape)"
   ]
  },
  {
   "cell_type": "code",
   "execution_count": 7,
   "metadata": {},
   "outputs": [
    {
     "name": "stdout",
     "output_type": "stream",
     "text": [
      "['abc news', 'abuse scandal', 'according new', 'across country', 'across europe', 'across world', 'adolf hitler', 'afghan police', 'afghan president', 'afghan women', 'african republic', 'ai weiwei', 'aid ship', 'air base', 'air force', 'air france', 'air pollution', 'air strike', 'air strikes', 'aircraft carrier', 'al assad', 'al jazeera', 'al jazeera english', 'al qaeda', 'al qaida', 'amnesty international', 'anders behring', 'anders behring breivik', 'angela merkel', 'anti corruption', 'anti gay', 'anti government', 'anti islam', 'anti piracy', 'anti semitism', 'anti terror', 'anyone else', 'arab league', 'arab spring', 'arab world', 'arctic sea', 'armed forces', 'armenian genocide', 'around world', 'arrest warrant', 'associated press', 'asylum seekers', 'attack iran', 'aung san', 'aung san suu', 'austerity measures', 'australian government', 'australian pm', 'australian pm tony', 'australian prime', 'australian prime minister', 'ban ki', 'ban ki moon', 'bank accounts', 'bank america', 'bank england', 'bank scotland', 'barack obama', 'barrier reef', 'bashar al', 'bashar al assad', 'bashar assad', 'bay founder', 'bbc news', 'beaten death', 'become first', 'becomes first', 'behring breivik', 'benedict xvi', 'benjamin netanyahu', 'big brother', 'big picture', 'bill gates', 'bill would', 'billion dollar', 'billion euros', 'billion people', 'billions dollars', 'bin laden', 'bird flu', 'birth control', 'black market', 'black sea', 'blasphemy law', 'blockade gaza', 'bluefin tuna', 'bodies found', 'body parts', 'body scanners', 'boko haram', 'bolivian president', 'bomb plot', 'border crossing', 'bradley manning', 'british columbia', 'british government', 'british pm', 'british police', 'british prime', 'british prime minister', 'british soldiers', 'british troops', 'bush administration', 'canadian government', 'cancer drug', 'car bomb', 'catholic church', 'cease fire', 'cell phone', 'central african', 'central african republic', 'central bank', 'chancellor angela', 'chancellor angela merkel', 'chemical weapons', 'child abuse', 'child porn', 'child pornography', 'child sex', 'child sex abuse', 'child soldiers', 'children killed', 'china india', 'china russia', 'china says', 'china sea', 'china state', 'chinese authorities', 'chinese government', 'chinese police', 'christopher hitchens', 'church scientology', 'civil liberties', 'civil war', 'civilian deaths', 'civilians killed', 'climate change', 'cnn com', 'co uk', 'coca cola', 'cold war', 'commits suicide', 'communist party', 'costa rica', 'could face', 'could lead', 'countries world', 'country world', 'court justice', 'court orders', 'court ruled', 'court rules', 'court ruling', 'court sentences', 'credit card', 'credit rating', 'crimes humanity', 'criminal charges', 'criminal court', 'cyber attack', 'czech republic', 'dalai lama', 'dark side', 'david cameron', 'david miranda', 'de janeiro', 'dead injured', 'death penalty', 'death sentence', 'death threats', 'death toll', 'debt crisis', 'declared war', 'defense minister', 'deputy prime', 'deputy prime minister', 'desmond tutu', 'dmitry medvedev', 'doctors without', 'doctors without borders', 'documents reveal', 'documents show', 'dr congo', 'drinking water', 'drone attacks', 'drone strike', 'drone strikes', 'drug cartel', 'drug cartels', 'drug lord', 'drug policy', 'drug related', 'drug trafficking', 'drug war', 'drugs war', 'dutch government', 'earthquake hits', 'east jerusalem', 'eastern europe', 'eastern ukraine', 'ebola outbreak', 'economic crisis', 'economic growth', 'edward snowden', 'egyptian president', 'eight years', 'el salvador', 'electric power', 'end year', 'ethnic cleansing', 'euro zone', 'european commission', 'european countries', 'european court', 'european parliament', 'european union', 'even though', 'ever seen', 'every day', 'every year', 'evo morales', 'experts say', 'face death', 'face trial', 'faces years', 'far right', 'feared dead', 'female genital', 'female genital mutilation', 'fidel castro', 'fighter jets', 'file sharing', 'finance minister', 'financial crisis', 'fire protesters', 'first country', 'first ever', 'first female', 'first time', 'first time since', 'first time years', 'five year', 'five years', 'flotilla raid', 'fly zone', 'food aid', 'food crisis', 'food prices', 'forces killed', 'foreign minister', 'foreign ministry', 'foreign policy', 'former president', 'former prime', 'former prime minister', 'fossil fuels', 'found alive', 'found dead', 'found guilty', 'founder julian', 'founder julian assange', 'four years', 'fox news', 'free speech', 'free trade', 'freedom expression', 'freedom speech', 'french court', 'french government', 'french president', 'fukushima daiichi', 'fukushima nuclear', 'fukushima nuclear plant', 'fukushima plant', 'gaddafi forces', 'gang rape', 'gang raped', 'gas pipeline', 'gay marriage', 'gay men', 'gay people', 'gay pride', 'gay rights', 'gaza aid', 'gaza blockade', 'gaza border', 'gaza conflict', 'gaza flotilla', 'gaza israel', 'gaza israeli', 'gaza strip', 'gaza war', 'general assembly', 'general strike', 'genetically modified', 'genital mutilation', 'george bush', 'german chancellor', 'german chancellor angela', 'german government', 'glenn greenwald', 'global economy', 'global financial', 'global warming', 'go ahead', 'golden dawn', 'goldman sachs', 'good news', 'gordon brown', 'government forces', 'government officials', 'government said', 'government says', 'government wants', 'great barrier', 'great barrier reef', 'green light', 'group says', 'guantanamo bay', 'guardian co', 'guardian co uk', 'gulf mexico', 'hacking scandal', 'half million', 'hamas leader', 'hamid karzai', 'harper government', 'health care', 'health organization', 'high court', 'high level', 'high profile', 'high school', 'high speed', 'high speed rail', 'high tech', 'hillary clinton', 'hong kong', 'hosni mubarak', 'house arrest', 'hugo chavez', 'human right', 'human rights', 'human rights abuses', 'human rights council', 'human rights group', 'human rights groups', 'human rights watch', 'human trafficking', 'humanitarian aid', 'hundreds millions', 'hundreds thousands', 'hunger strike', 'india china', 'intelligence agencies', 'intelligence agency', 'interest rates', 'interior minister', 'interior ministry', 'international criminal', 'international criminal court', 'international law', 'international space', 'international space station', 'internet access', 'internet censorship', 'internet freedom', 'internet users', 'iran nuclear', 'iran says', 'iranian nuclear', 'iranian president', 'iraq afghanistan', 'iraq war', 'islamic state', 'israel gaza', 'israel israel', 'israel must', 'israel news', 'israel palestine', 'israeli air', 'israeli ambassador', 'israeli army', 'israeli diplomat', 'israeli forces', 'israeli government', 'israeli military', 'israeli navy', 'israeli pm', 'israeli police', 'israeli president', 'israeli prime', 'israeli prime minister', 'israeli settlement', 'israeli settlements', 'israeli settlers', 'israeli soldier', 'israeli soldiers', 'israeli spy', 'israeli troops', 'italian prime', 'italian prime minister', 'ivory coast', 'jail term', 'jailed years', 'james murdoch', 'japan earthquake', 'japan nuclear', 'japanese government', 'jazeera english', 'jewish settlers', 'jewish state', 'john kerry', 'jong il', 'jong un', 'julia gillard', 'julian assange', 'justice minister', 'kevin rudd', 'ki moon', 'killed injured', 'killed people', 'killed syria', 'killed two', 'killed us', 'killed wounded', 'killing least', 'killing people', 'kim dotcom', 'kim jong', 'kim jong il', 'kim jong un', 'king abdullah', 'korea nuclear', 'korea says', 'korea threatens', 'korea warns', 'korean leader', 'large scale', 'last month', 'last night', 'last week', 'last year', 'last years', 'latin america', 'latin american', 'law enforcement', 'law would', 'leader kim', 'leader kim jong', 'leaked documents', 'least dead', 'least killed', 'least people', 'least people killed', 'leave country', 'left behind', 'legal action', 'libyan leader', 'libyan rebels', 'live updates', 'london police', 'london riots', 'long range', 'long term', 'long time', 'looks like', 'magnitude earthquake', 'magnitude quake', 'mahmoud ahmadinejad', 'malala yousafzai', 'malaysia airlines', 'man jailed', 'many people', 'mars mission', 'mass grave', 'mass murder', 'mass protests', 'mass surveillance', 'medical marijuana', 'member states', 'men arrested', 'men women', 'mentally ill', 'metropolitan police', 'mexican drug', 'mexican police', 'mexico city', 'mexico drug', 'middle class', 'middle east', 'migrant workers', 'militant group', 'military action', 'military base', 'military bases', 'military court', 'military intervention', 'million people', 'millions dollars', 'minimum wage', 'minister calls', 'minister david', 'minister david cameron', 'minister said', 'minister says', 'minister tony', 'missile defense', 'mobile phone', 'mobile phones', 'money laundering', 'months ago', 'muammar gaddafi', 'mumbai attacks', 'muslim brotherhood', 'muslim woman', 'muslim women', 'muslim world', 'national park', 'national security', 'natural gas', 'natural resources', 'neo nazi', 'neo nazis', 'net neutrality', 'new anti', 'new constitution', 'new delhi', 'new evidence', 'new government', 'new guinea', 'new law', 'new president', 'new report', 'new study', 'new york', 'new york times', 'new zealand', 'news agency', 'news corp', 'news guardian', 'news international', 'news world', 'next month', 'next week', 'next year', 'next years', 'nicolas sarkozy', 'nobel peace', 'nobel peace prize', 'nobel prize', 'north america', 'north korea', 'north korea says', 'north korea threatens', 'north korea warns', 'north korean', 'north korean leader', 'north koreans', 'northern iraq', 'northern ireland', 'northern mali', 'nsa gchq', 'nsa spying', 'nsa surveillance', 'nuclear disaster', 'nuclear plant', 'nuclear plants', 'nuclear power', 'nuclear power plant', 'nuclear program', 'nuclear reactor', 'nuclear reactors', 'nuclear scientist', 'nuclear test', 'nuclear warheads', 'nuclear weapons', 'number people', 'nytimes com', 'obama administration', 'occupied west', 'occupied west bank', 'official said', 'official says', 'officials said', 'officials say', 'oil company', 'oil giant', 'oil prices', 'oil spill', 'old boy', 'old daughter', 'old girl', 'old man', 'old palestinian', 'one biggest', 'one day', 'one man', 'one million', 'one month', 'one world', 'one year', 'open fire', 'open letter', 'opened fire', 'opposition leader', 'ordered pay', 'organized crime', 'orthodox jews', 'osama bin', 'osama bin laden', 'outside world', 'pacific ocean', 'palestinian authority', 'palestinian state', 'palestinian territories', 'papua new', 'papua new guinea', 'past decade', 'past years', 'peace prize', 'peace talks', 'people arrested', 'people died', 'people including', 'people killed', 'per capita', 'per cent', 'per day', 'per year', 'persian gulf', 'personal information', 'phone call', 'phone calls', 'phone hacking', 'phone hacking scandal', 'pirate bay', 'pirate bay founder', 'pirate party', 'plane crash', 'plane crashes', 'pm says', 'pm tony', 'pm tony abbott', 'police arrest', 'police arrested', 'police brutality', 'police chief', 'police force', 'police officer', 'police officers', 'police raid', 'police said', 'police say', 'police state', 'police station', 'political prisoners', 'poll shows', 'pope benedict', 'pope benedict xvi', 'pope francis', 'population growth', 'power plant', 'power plants', 'pre emptive', 'president barack', 'president barack obama', 'president bashar', 'president bashar al', 'president hosni', 'president hosni mubarak', 'president hugo', 'president hugo chavez', 'president mahmoud', 'president mahmoud ahmadinejad', 'president nicolas', 'president nicolas sarkozy', 'president obama', 'president says', 'president vladimir', 'president vladimir putin', 'presidential election', 'presidential palace', 'press freedom', 'previously thought', 'prime minister', 'prime minister david', 'prime minister tony', 'pro democracy', 'pro russian', 'prophet muhammad', 'public health', 'pussy riot', 'putin says', 'qatar world', 'qatar world cup', 'radioactive water', 'rape victim', 'rebekah brooks', 'recep tayyip', 'record high', 'record low', 'red cross', 'renewable energy', 'report finds', 'report says', 'rest world', 'return home', 'richest man', 'right wing', 'rights abuses', 'rights activist', 'rights activists', 'rights council', 'rights group', 'rights groups', 'rights lawyer', 'rights watch', 'rio de', 'rio de janeiro', 'riot police', 'rob ford', 'robert mugabe', 'roman catholic', 'royal family', 'ruling party', 'rupert murdoch', 'russia china', 'russia says', 'russia us', 'russia warns', 'russian forces', 'russian military', 'russian police', 'russian president', 'russian president vladimir', 'russian troops', 'saddam hussein', 'said friday', 'said monday', 'said thursday', 'said tuesday', 'said wednesday', 'said would', 'san suu', 'san suu kyi', 'satellite images', 'saudi arabia', 'saudi arabian', 'says china', 'says israel', 'says israeli', 'says new', 'says russia', 'says russian', 'says uk', 'says un', 'says us', 'scientists say', 'scotland yard', 'sea shepherd', 'second largest', 'secret service', 'secretary general', 'secretary state', 'security council', 'security forces', 'sentenced death', 'sentenced years', 'set fire', 'seven years', 'sex abuse', 'sex marriage', 'sex workers', 'sexual abuse', 'sexual assault', 'sexual violence', 'sexually assaulted', 'sharia law', 'shark fin', 'shot dead', 'shot killed', 'sierra leone', 'silvio berlusconi', 'six months', 'six years', 'snowden asylum', 'snowden leaks', 'social media', 'solar panels', 'solar power', 'soldiers killed', 'somali pirates', 'south africa', 'south african', 'south america', 'south china', 'south china sea', 'south korea', 'south korean', 'south ossetia', 'south sudan', 'soviet union', 'space station', 'special forces', 'speed rail', 'spy agency', 'sri lanka', 'sri lankan', 'stabbed death', 'stand trial', 'state department', 'state emergency', 'state israel', 'state media', 'state owned', 'state run', 'state solution', 'stephen harper', 'stoned death', 'strike iran', 'strike kills', 'student protests', 'study finds', 'suicide bomber', 'suicide bombers', 'suicide bombing', 'super rich', 'supreme court', 'supreme leader', 'suu kyi', 'swine flu', 'syrian army', 'syrian forces', 'syrian government', 'syrian president', 'syrian president bashar', 'syrian rebels', 'syrian troops', 'tahrir square', 'take action', 'take part', 'take streets', 'taking place', 'tar sands', 'tax evasion', 'tayyip erdogan', 'tear gas', 'tel aviv', 'tens thousands', 'terror attack', 'terror attacks', 'terrorist attack', 'terrorist attacks', 'terrorist group', 'text messages', 'th anniversary', 'th century', 'thousands people', 'thousands protest', 'thousands protesters', 'three days', 'three men', 'three months', 'three strikes', 'three years', 'tiananmen square', 'time since', 'time years', 'tokyo electric', 'tokyo electric power', 'tony abbott', 'tony blair', 'top court', 'top secret', 'trade agreement', 'troops afghanistan', 'troops killed', 'turkish government', 'turkish pm', 'turkish police', 'turkish prime', 'turkish prime minister', 'two days', 'two decades', 'two men', 'two months', 'two state', 'two thirds', 'two weeks', 'two year', 'two years', 'uk government', 'uk police', 'uk us', 'ukraine crisis', 'ukraine says', 'ukrainian military', 'ultra orthodox', 'un human', 'un human rights', 'un report', 'un says', 'un security', 'un security council', 'undercover police', 'united kingdom', 'united nations', 'united states', 'us air', 'us ambassador', 'us army', 'us drone', 'us embassy', 'us forces', 'us government', 'us intelligence', 'us israel', 'us led', 'us military', 'us missile', 'us officials', 'us president', 'us troops', 'us uk', 'use force', 'vice president', 'video footage', 'video shows', 'violent protests', 'vladimir putin', 'wal mart', 'wall street', 'war afghanistan', 'war crime', 'war crimes', 'war drugs', 'war ii', 'war iran', 'war logs', 'war terror', 'warns us', 'washington post', 'water supply', 'west africa', 'west bank', 'white house', 'white phosphorus', 'wi fi', 'wikileaks cables', 'wikileaks founder', 'wikileaks founder julian', 'wikileaks releases', 'wind power', 'within hours', 'without borders', 'women children', 'women girls', 'women rights', 'world bank', 'world biggest', 'world cup', 'world first', 'world health', 'world health organization', 'world heritage', 'world largest', 'world leaders', 'world news', 'world oldest', 'world population', 'world richest', 'world war', 'world war ii', 'worlds biggest', 'worlds largest', 'would allow', 'would like', 'would make', 'year old', 'year old boy', 'year old daughter', 'year old girl', 'year old man', 'year old palestinian', 'years ago', 'years jail', 'years later', 'years old', 'years prison', 'york times', 'young men', 'young people', 'young woman', 'yr old']\n"
     ]
    }
   ],
   "source": [
    "vocab = vectorizer.get_feature_names()\n",
    "print (vocab)\n",
    "#print(newsTrain_feature[0:2])"
   ]
  },
  {
   "cell_type": "code",
   "execution_count": 8,
   "metadata": {},
   "outputs": [],
   "source": [
    "# example = vectorizer.build_tokenizer()(' '.join(trainheadlines))\n",
    "# pd.DataFrame([[x,example.count(x)] for x in set(example)], columns = ['Word', 'Count'])"
   ]
  },
  {
   "cell_type": "code",
   "execution_count": 9,
   "metadata": {},
   "outputs": [
    {
     "name": "stdout",
     "output_type": "stream",
     "text": [
      "Training the random forest...\n"
     ]
    }
   ],
   "source": [
    "print (\"Training the random forest...\")\n",
    "from sklearn.ensemble import RandomForestClassifier\n",
    "forest = RandomForestClassifier(n_estimators = 10) #n_estimators = 10 or 100\n",
    "forest = forest.fit( newsTrain_feature, newsTrain[\"Label\"] )"
   ]
  },
  {
   "cell_type": "code",
   "execution_count": 10,
   "metadata": {},
   "outputs": [
    {
     "name": "stdout",
     "output_type": "stream",
     "text": [
      "Testing the testing dataset...\n"
     ]
    }
   ],
   "source": [
    "#testing\n",
    "print (\"Testing the testing dataset...\")\n",
    "testheadlines = []\n",
    "for row in range(0,len(newsTest.index)):\n",
    "#for row in range(0,2):\n",
    "    #pre-process words\n",
    "    combinedtestNews = \" \".join(str(x).replace(\"b\\\"\",\"\").replace(\"b\\'\",\"\") for x in newsTest.iloc[row,2:27])\n",
    "    processedtestNews = news_to_words(combinedtestNews)\n",
    "    testheadlines.append(processedtestNews)\n",
    "newsTest_features = vectorizer.transform(testheadlines)\n",
    "newsTest_features = newsTest_features.toarray()\n",
    "result = forest.predict(newsTest_features)\n",
    "output = pd.DataFrame( data={\"Date\":newsTest[\"Date\"],\"Actual Label\":newsTest[\"Label\"],\"Predict Label\":result})\n",
    "output.to_csv( \"Bag_of_Words_rand_forest.csv\", index=False, quoting=3 )"
   ]
  },
  {
   "cell_type": "code",
   "execution_count": 11,
   "metadata": {},
   "outputs": [
    {
     "name": "stdout",
     "output_type": "stream",
     "text": [
      "accuracy: 0.5343915343915344\n"
     ]
    }
   ],
   "source": [
    "#df = pd.read_csv(\"Bag_of_Words_rand_forest.csv\")\n",
    "a = np.where((output['Actual Label'] == output['Predict Label']))\n",
    "b = np.array(output['Actual Label'])\n",
    "c = np.array(output['Predict Label'])\n",
    "count = np.count_nonzero(b == c)\n",
    "print(\"accuracy:\",count/378)\n",
    "#print(a)"
   ]
  },
  {
   "cell_type": "code",
   "execution_count": 12,
   "metadata": {},
   "outputs": [],
   "source": [
    "open_and_close = pd.DataFrame({'Date':stockTest[\"Date\"],'Open':stockTest['Open'],\"Close\":stockTest[\"Close\"]})\n",
    "open_and_close.to_csv(\"open_and_close_test.csv\", index= False, quoting =3)"
   ]
  }
 ],
 "metadata": {
  "kernelspec": {
   "display_name": "Python 3",
   "language": "python",
   "name": "python3"
  },
  "language_info": {
   "codemirror_mode": {
    "name": "ipython",
    "version": 3
   },
   "file_extension": ".py",
   "mimetype": "text/x-python",
   "name": "python",
   "nbconvert_exporter": "python",
   "pygments_lexer": "ipython3",
   "version": "3.7.3"
  }
 },
 "nbformat": 4,
 "nbformat_minor": 2
}
