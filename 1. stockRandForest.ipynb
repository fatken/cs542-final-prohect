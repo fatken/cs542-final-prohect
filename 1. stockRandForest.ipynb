{
 "cells": [
  {
   "cell_type": "code",
   "execution_count": 8,
   "metadata": {},
   "outputs": [
    {
     "name": "stderr",
     "output_type": "stream",
     "text": [
      "[nltk_data] Downloading package stopwords to\n",
      "[nltk_data]     C:\\Users\\shiji\\AppData\\Roaming\\nltk_data...\n",
      "[nltk_data]   Package stopwords is already up-to-date!\n"
     ]
    }
   ],
   "source": [
    "import pandas as pd\n",
    "import re\n",
    "import nltk\n",
    "import numpy as np\n",
    "nltk.download('stopwords')\n",
    "from nltk.corpus import stopwords\n",
    "from sklearn.feature_extraction.text import CountVectorizer\n",
    "from sklearn.linear_model import LogisticRegression"
   ]
  },
  {
   "cell_type": "code",
   "execution_count": 9,
   "metadata": {},
   "outputs": [],
   "source": [
    "newsData = pd.read_csv(\"stockNews/Combined_News_DJIA.csv\")\n",
    "stockData = pd.read_csv(\"stockNews/DJIA_table.csv\")\n",
    "stockData = stockData.iloc[::-1]"
   ]
  },
  {
   "cell_type": "code",
   "execution_count": 10,
   "metadata": {
    "scrolled": false
   },
   "outputs": [
    {
     "data": {
      "text/html": [
       "<div>\n",
       "<style scoped>\n",
       "    .dataframe tbody tr th:only-of-type {\n",
       "        vertical-align: middle;\n",
       "    }\n",
       "\n",
       "    .dataframe tbody tr th {\n",
       "        vertical-align: top;\n",
       "    }\n",
       "\n",
       "    .dataframe thead th {\n",
       "        text-align: right;\n",
       "    }\n",
       "</style>\n",
       "<table border=\"1\" class=\"dataframe\">\n",
       "  <thead>\n",
       "    <tr style=\"text-align: right;\">\n",
       "      <th></th>\n",
       "      <th>Date</th>\n",
       "      <th>Open</th>\n",
       "      <th>High</th>\n",
       "      <th>Low</th>\n",
       "      <th>Close</th>\n",
       "      <th>Volume</th>\n",
       "      <th>Adj Close</th>\n",
       "    </tr>\n",
       "  </thead>\n",
       "  <tbody>\n",
       "    <tr>\n",
       "      <th>377</th>\n",
       "      <td>2015-01-02</td>\n",
       "      <td>17823.070312</td>\n",
       "      <td>17951.779297</td>\n",
       "      <td>17731.300781</td>\n",
       "      <td>17832.990234</td>\n",
       "      <td>76270000</td>\n",
       "      <td>17832.990234</td>\n",
       "    </tr>\n",
       "    <tr>\n",
       "      <th>376</th>\n",
       "      <td>2015-01-05</td>\n",
       "      <td>17821.300781</td>\n",
       "      <td>17821.300781</td>\n",
       "      <td>17475.929688</td>\n",
       "      <td>17501.650391</td>\n",
       "      <td>116160000</td>\n",
       "      <td>17501.650391</td>\n",
       "    </tr>\n",
       "  </tbody>\n",
       "</table>\n",
       "</div>"
      ],
      "text/plain": [
       "           Date          Open          High           Low         Close  \\\n",
       "377  2015-01-02  17823.070312  17951.779297  17731.300781  17832.990234   \n",
       "376  2015-01-05  17821.300781  17821.300781  17475.929688  17501.650391   \n",
       "\n",
       "        Volume     Adj Close  \n",
       "377   76270000  17832.990234  \n",
       "376  116160000  17501.650391  "
      ]
     },
     "execution_count": 10,
     "metadata": {},
     "output_type": "execute_result"
    }
   ],
   "source": [
    "newsTrain = newsData[newsData['Date']< '2015-01-01']\n",
    "newsTest = newsData[newsData['Date']>'2014-12-31']\n",
    "stockTest = stockData[stockData['Date']>'2014-12-31']\n",
    "stockTest.head(2)"
   ]
  },
  {
   "cell_type": "code",
   "execution_count": 11,
   "metadata": {},
   "outputs": [],
   "source": [
    "def news_to_words( news ):\n",
    "    # 1. Remove non-letters        \n",
    "    letters_only = re.sub(\"[^a-zA-Z]\", \" \", news) \n",
    "    #\n",
    "    # 2. Convert to lower case, split into individual words\n",
    "    words = letters_only.lower().split()                             \n",
    "    #\n",
    "    # 3. In Python, searching a set is much faster than searching\n",
    "    #   a list, so convert the stop words to a set\n",
    "    stops = set(stopwords.words(\"english\"))                  \n",
    "    # \n",
    "    # 4. Remove stop words\n",
    "    meaningful_words = [w for w in words if not w in stops]   \n",
    "    #\n",
    "    # 5. Join the words back into one string separated by space, \n",
    "    # and return the result.\n",
    "    return( \" \".join( meaningful_words ))"
   ]
  },
  {
   "cell_type": "code",
   "execution_count": 12,
   "metadata": {},
   "outputs": [],
   "source": [
    "trainheadlines = []\n",
    "for row in range(0,len(newsTrain.index)):\n",
    "#for row in range(0,2):\n",
    "    #pre-process words\n",
    "    combinedNews = \" \".join(str(x).replace(\"b\\\"\",\"\").replace(\"b\\'\",\"\") for x in newsTrain.iloc[row,2:27])\n",
    "    processedNews = news_to_words(combinedNews)\n",
    "    trainheadlines.append(processedNews)\n",
    "    #trainheadlines.append(combinedNews)\n",
    "#print(trainheadlines)\n",
    "#print(len(newsTrain.index))"
   ]
  },
  {
   "cell_type": "code",
   "execution_count": 13,
   "metadata": {},
   "outputs": [
    {
     "name": "stdout",
     "output_type": "stream",
     "text": [
      "(1611, 5000)\n"
     ]
    }
   ],
   "source": [
    "#regardless the characters\n",
    "#maxium feature words we are considering\n",
    "vectorizer = CountVectorizer(analyzer = \"word\",   \\\n",
    "                             tokenizer = None,    \\\n",
    "                             preprocessor = None, \\\n",
    "                             stop_words = None,   \\\n",
    "                             max_features = 5000)\n",
    "newsTrain_feature = vectorizer.fit_transform(trainheadlines)\n",
    "newsTrain_feature = newsTrain_feature.toarray()\n",
    "print (newsTrain_feature.shape)"
   ]
  },
  {
   "cell_type": "code",
   "execution_count": 14,
   "metadata": {},
   "outputs": [],
   "source": [
    "vocab = vectorizer.get_feature_names()\n",
    "#print (vocab)\n",
    "#print(newsTrain_feature[0:2])"
   ]
  },
  {
   "cell_type": "code",
   "execution_count": 15,
   "metadata": {},
   "outputs": [],
   "source": [
    "# example = vectorizer.build_tokenizer()(' '.join(trainheadlines))\n",
    "# pd.DataFrame([[x,example.count(x)] for x in set(example)], columns = ['Word', 'Count'])"
   ]
  },
  {
   "cell_type": "code",
   "execution_count": 16,
   "metadata": {},
   "outputs": [
    {
     "name": "stdout",
     "output_type": "stream",
     "text": [
      "Training the random forest...\n"
     ]
    },
    {
     "name": "stderr",
     "output_type": "stream",
     "text": [
      "C:\\Users\\shiji\\AppData\\Local\\Programs\\Python\\Python37-32\\lib\\site-packages\\sklearn\\ensemble\\forest.py:245: FutureWarning: The default value of n_estimators will change from 10 in version 0.20 to 100 in 0.22.\n",
      "  \"10 in version 0.20 to 100 in 0.22.\", FutureWarning)\n"
     ]
    }
   ],
   "source": [
    "print (\"Training the random forest...\")\n",
    "from sklearn.ensemble import RandomForestClassifier\n",
    "forest = RandomForestClassifier() #n_estimators = 10 or 100\n",
    "forest = forest.fit( newsTrain_feature, newsTrain[\"Label\"] )"
   ]
  },
  {
   "cell_type": "code",
   "execution_count": 17,
   "metadata": {},
   "outputs": [
    {
     "name": "stdout",
     "output_type": "stream",
     "text": [
      "Testing the testing dataset...\n"
     ]
    }
   ],
   "source": [
    "#testing\n",
    "print (\"Testing the testing dataset...\")\n",
    "testheadlines = []\n",
    "for row in range(0,len(newsTest.index)):\n",
    "#for row in range(0,2):\n",
    "    #pre-process words\n",
    "    combinedtestNews = \" \".join(str(x).replace(\"b\\\"\",\"\").replace(\"b\\'\",\"\") for x in newsTest.iloc[row,2:27])\n",
    "    processedtestNews = news_to_words(combinedtestNews)\n",
    "    testheadlines.append(processedtestNews)\n",
    "newsTest_features = vectorizer.transform(testheadlines)\n",
    "newsTest_features = newsTest_features.toarray()\n",
    "result = forest.predict(newsTest_features)\n",
    "output = pd.DataFrame( data={\"Date\":newsTest[\"Date\"],\"Actual Label\":newsTest[\"Label\"],\"Predict Label\":result})\n",
    "output.to_csv( \"Bag_of_Words_rand_forest.csv\", index=False, quoting=3 )"
   ]
  },
  {
   "cell_type": "code",
   "execution_count": 18,
   "metadata": {},
   "outputs": [
    {
     "name": "stdout",
     "output_type": "stream",
     "text": [
      "accuracy: 0.48677248677248675\n"
     ]
    }
   ],
   "source": [
    "#df = pd.read_csv(\"Bag_of_Words_rand_forest.csv\")\n",
    "a = np.where((output['Actual Label'] == output['Predict Label']))\n",
    "b = np.array(output['Actual Label'])\n",
    "c = np.array(output['Predict Label'])\n",
    "count = np.count_nonzero(b == c)\n",
    "print(\"accuracy:\",count/378)\n",
    "#print(a)"
   ]
  },
  {
   "cell_type": "code",
   "execution_count": 19,
   "metadata": {},
   "outputs": [],
   "source": [
    "open_and_close = pd.DataFrame({'Date':stockTest[\"Date\"],'Open':stockTest['Open'],\"Close\":stockTest[\"Close\"]})\n",
    "open_and_close.to_csv(\"open_and_close_test.csv\", index= False, quoting =3)"
   ]
  }
 ],
 "metadata": {
  "kernelspec": {
   "display_name": "Python 3",
   "language": "python",
   "name": "python3"
  },
  "language_info": {
   "codemirror_mode": {
    "name": "ipython",
    "version": 3
   },
   "file_extension": ".py",
   "mimetype": "text/x-python",
   "name": "python",
   "nbconvert_exporter": "python",
   "pygments_lexer": "ipython3",
   "version": "3.7.3"
  }
 },
 "nbformat": 4,
 "nbformat_minor": 2
}
